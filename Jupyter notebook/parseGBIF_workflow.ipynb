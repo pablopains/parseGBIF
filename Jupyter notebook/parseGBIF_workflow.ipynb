{
 "cells": [
  {
   "cell_type": "code",
   "execution_count": null,
   "id": "b3d65917-cce0-468b-992d-bb455e9c8607",
   "metadata": {},
   "outputs": [],
   "source": [
    "#if (!require(\"pacman\")) install.packages(\"pacman\")\n",
    "#pacman::p_load_gh(    \n",
    "#    \"utf8\", \n",
    "#    \"purrr\", \n",
    "#    \"slam\", \n",
    "#    \"data.table\", \n",
    "#    \"vctrs\", \n",
    "#    \"tibble\", \n",
    "#    \"cli\", \n",
    "#    \"rlang\", \n",
    "#    \"dplyr\", \n",
    "#    \"zoo\", \n",
    "#    \"textshape\", \n",
    "#    \"syuzhet, lexicon\",\n",
    "#    \"trinker/lexicon\",    \n",
    "#    \"trinker/textclean\",\n",
    "#    \"downloader\",\n",
    "#    \"dplyr\"\n",
    "#)\n",
    "\n",
    "#devtools::install_version(\n",
    "# package = \"dplyr\",\n",
    "#   repos   = \"http://cran.us.r-project.org\")\n",
    "\n",
    "\n",
    "devtools::install_version(\n",
    " package = \"downloader\",\n",
    "   repos   = \"http://cran.us.r-project.org\")\n",
    "\n",
    "devtools::install_version(\n",
    " package = \"rscopus\",\n",
    "   repos   = \"http://cran.us.r-project.org\")\n"
   ]
  },
  {
   "cell_type": "code",
   "execution_count": null,
   "id": "e093f70c-9687-40b2-b3b8-19f2c4060b19",
   "metadata": {},
   "outputs": [],
   "source": [
    "  \n",
    "  source(paste0(getwd(),'/r/collectors_get_name.R'))\n",
    "  source(paste0(getwd(),'/r/collectors_prepare_dictionary.R'))\n",
    "  source(paste0(getwd(),'/r/collectors_prepare_dictionary_v2.R'))\n",
    "  source(paste0(getwd(),'/r/EnumOccurrenceIssue.R'))\n",
    "  source(paste0(getwd(),'/r/export_data_v2.3.R'))\n",
    "  source(paste0(getwd(),'/r/extract_gbif_issue.R'))\n",
    "  source(paste0(getwd(),'/r/generate_collection_event_key.R'))\n",
    "  source(paste0(getwd(),'/r/parseGBIF_summary.R'))\n",
    "  source(paste0(getwd(),'/r/prepare_gbif_occurrence_data.R'))\n",
    "  source(paste0(getwd(),'/r/select_digital_voucher_v2.1.R'))\n",
    "  source(paste0(getwd(),'/r/select_gbif_fields.R'))\n",
    "  source(paste0(getwd(),'/r/standardize_scientificName.R'))\n",
    "  source(paste0(getwd(),'/r/wcvp_check_name.R'))\n",
    "  source(paste0(getwd(),'/r/wcvp_check_name_batch.R'))\n",
    "  source(paste0(getwd(),'/r/wcvp_get_data.R'))\n",
    "\n",
    "  source(paste0(getwd(),'/r/wcvp_get_data_v2.1.R'))\n",
    "\n",
    "  library(dplyr)\n",
    "\n",
    "  library(downloader)\n",
    "\n",
    "  #library('textclean')\n",
    "\n"
   ]
  },
  {
   "cell_type": "code",
   "execution_count": null,
   "id": "a81161fc-b857-4158-9c30-918d05f8a89f",
   "metadata": {},
   "outputs": [],
   "source": [
    "family_name <- 'Myrtaceae'#'Achatocarpaceae'\n",
    "\n",
    "path_data <- paste0(getwd(),'/data')\n",
    "path_dataGBIF <- paste0(getwd(),'/dataGBIF/',family_name)\n",
    "path_dataWCVP <- paste0(getwd(),'/dataWCVP')"
   ]
  },
  {
   "cell_type": "code",
   "execution_count": null,
   "id": "7f6e0008-19d5-457d-afba-e28a301aa778",
   "metadata": {},
   "outputs": [],
   "source": [
    "occ_file <- paste0(path_dataGBIF,'/occurrence.txt')\n",
    "if(!file.exists(occ_file))\n",
    "{\n",
    "    occ_file_zip <- paste0(path_dataGBIF,'/occurrence.zip')\n",
    "    utils::unzip(occ_file_zip, exdir = path_dataGBIF)\n",
    "}\n",
    "\n",
    "#occ_file <-'https://drive.google.com/file/d/18oQsGWPRJDcSJDr-ttrEZZ_gHUvnGjt2/view?usp=sharing'\n",
    "occ <- prepare_gbif_occurrence_data(gbif_occurrece_file = occ_file, columns = 'standard')\n",
    "  \n",
    "#head(occ)\n",
    "NROW(occ)"
   ]
  },
  {
   "cell_type": "code",
   "execution_count": null,
   "id": "233a1950-9dc0-418b-9299-d73c8fc70212",
   "metadata": {},
   "outputs": [],
   "source": [
    "# EnumOccurrenceIssue.rda\n",
    "\n",
    "load(paste0(path_data, '/EnumOccurrenceIssue.rda'))\n",
    "\n",
    "NROW(EnumOccurrenceIssue)"
   ]
  },
  {
   "cell_type": "code",
   "execution_count": null,
   "id": "f26ff87c-13bb-43cd-8512-1850a0659ff7",
   "metadata": {},
   "outputs": [],
   "source": [
    "gbif_issue <- extract_gbif_issue(occ = occ,\n",
    "                                    enumOccurrenceIssue = EnumOccurrenceIssue)\n",
    "\n",
    "names(gbif_issue)\n",
    "\n",
    "file.name <- paste0(path_dataGBIF,'/parseGBIF_1_occ_issue.csv')\n",
    "write.csv(gbif_issue$occ_gbif_issue,\n",
    "            file.name, \n",
    "            row.names = FALSE, \n",
    "            fileEncoding = \"UTF-8\", \n",
    "            na = \"\")"
   ]
  },
  {
   "cell_type": "code",
   "execution_count": null,
   "id": "7be48dda-e307-42a8-ac38-16b448203767",
   "metadata": {},
   "outputs": [],
   "source": [
    "names(gbif_issue)"
   ]
  },
  {
   "cell_type": "code",
   "execution_count": null,
   "id": "2641eabd-ab93-4a03-9258-0654ffe430bd",
   "metadata": {},
   "outputs": [],
   "source": [
    "#wcvp_names <-  wcvp_get_data_v2.1(read_only_to_memory = FALSE,\n",
    "#                                     load_rda_data = TRUE,\n",
    "#                                 path_results = path_dataWCVP)$wcvp_names\n",
    "\n",
    "\n",
    "wcvp_names <-  wcvp_get_data_v2.1(read_only_to_memory = FALSE,\n",
    "                             path_results = path_dataWCVP)$wcvp_names\n",
    "\n",
    "\n",
    "#occ_file_zip <- paste0(path_dataWCVP,'/wcvp_names.zip')\n",
    "#utils::unzip(occ_file_zip, exdir = path_dataWCVP, overwrite = TRUE)\n",
    "\n",
    "# file_csv <- paste0(path_dataWCVP,'/wcvp_names.csv')\n",
    "# wcvp_names <- wcvp_get_data_v2.1(path_results = path_dataWCVP)$wcvp_names\n",
    "# NROW(wcvp_names)\n",
    "# remove(file_csv)\n",
    "\n"
   ]
  },
  {
   "cell_type": "code",
   "execution_count": null,
   "id": "8c56e6f2-6d56-4f3f-8959-e5b52ddec7fd",
   "metadata": {},
   "outputs": [],
   "source": [
    " NROW(wcvp_names)"
   ]
  },
  {
   "cell_type": "code",
   "execution_count": null,
   "id": "8864828b-3c05-41a6-bcb2-7329b57794f6",
   "metadata": {},
   "outputs": [],
   "source": [
    "names.checked <- wcvp_check_name_batch(occ = occ, \n",
    "                                       wcvp_names =  wcvp_names,\n",
    "                                       if_author_fails_try_without_combinations = TRUE,\n",
    "                                       wcvp_selected_fields = 'standard',\n",
    "                                       silence = FALSE)"
   ]
  },
  {
   "cell_type": "code",
   "execution_count": null,
   "id": "50f02039-8f98-4b1f-821e-e9eeb6fcec74",
   "metadata": {},
   "outputs": [],
   "source": [
    "names(names.checked)\n",
    "NROW(names.checked)"
   ]
  },
  {
   "cell_type": "code",
   "execution_count": null,
   "id": "b27b4651-f95d-4f69-a5f9-951fa57f4498",
   "metadata": {},
   "outputs": [],
   "source": [
    "file.name <- paste0(path_dataGBIF,'/parseGBIF_2_occ_wcvp_check_name.csv')\n",
    "\n",
    "write.csv(names.checked$occ_wcvp_check_name,\n",
    "            file.name, \n",
    "            row.names = FALSE, \n",
    "            fileEncoding = \"UTF-8\", \n",
    "            na = \"\")"
   ]
  },
  {
   "cell_type": "code",
   "execution_count": null,
   "id": "fd53dd39-e986-4971-8d02-c84ab14d1e58",
   "metadata": {},
   "outputs": [],
   "source": [
    "  collectorsDictionary.dataset <- collectors_prepare_dictionary_v2(occ = occ,\n",
    "                                                                           collectorDictionary_file = 'https://raw.githubusercontent.com/pablopains/parseGBIF/main/collectorDictionary/CollectorsDictionary_parseGBIF.csv')\n",
    "  \n",
    "  file.name <- paste0(path_dataGBIF,'/','parseGBIF_3_collectorsDictionary_dataset.csv')\n",
    "  write.csv(collectorsDictionary.dataset, \n",
    "            file.name, \n",
    "            row.names = FALSE, \n",
    "            fileEncoding = \"UTF-8\", \n",
    "            na = \"\")"
   ]
  },
  {
   "cell_type": "code",
   "execution_count": null,
   "id": "f36f3d90-8c4b-456c-80bc-c92cfc223bff",
   "metadata": {},
   "outputs": [],
   "source": [
    "  collectorsDictionary <- generate_collection_event_key(occ=occ,\n",
    "                                                        # collectorDictionary_checked_file = file.collectorsDictionary.dataset.checked,\n",
    "                                                        collectorDictionary_checked = collectorsDictionary.dataset,\n",
    "                                                        collectorDictionary_file = 'https://raw.githubusercontent.com/pablopains/parseGBIF/main/collectorDictionary/CollectorsDictionary_parseGBIF.csv',\n",
    "                                                        silence = FALSE)\n"
   ]
  },
  {
   "cell_type": "code",
   "execution_count": null,
   "id": "12de0b62-a8d2-45e5-bb24-c13cfcc57b43",
   "metadata": {},
   "outputs": [],
   "source": [
    "file.name <- paste0(path_dataGBIF,'/parseGBIF_3_occ_collectorsDictionary.csv')\n",
    "  write.csv(collectorsDictionary$occ_collectorsDictionary, file.name, \n",
    "            row.names = FALSE, fileEncoding = \"UTF-8\", na = \"\")\n",
    "  \n",
    "  \n",
    "  file.name <- paste0(path_dataGBIF,'/parseGBIF_3_summary_collectorsDictionary.csv')\n",
    "  write.csv(collectorsDictionary$summary, file.name, \n",
    "            row.names = FALSE, fileEncoding = \"UTF-8\", na = \"\")\n",
    "  \n",
    "  file.name <- paste0(path_dataGBIF,'/parseGBIF_3_collectorsDictionary_add.csv')\n",
    "  write.csv(collectorsDictionary$collectorsDictionary_add, file.name, \n",
    "            row.names = FALSE, fileEncoding = \"UTF-8\", na = \"\")"
   ]
  },
  {
   "cell_type": "code",
   "execution_count": null,
   "id": "d816fc10-fc4a-4248-bd13-19aaac7a6c14",
   "metadata": {},
   "outputs": [],
   "source": [
    "#  file.name <- paste0(path_dataGBIF,'/parseGBIF_1_occ_data.csv')\n",
    "#  occ <- readr::read_delim(file = file.name,\n",
    "#                           delim = ',',\n",
    "#                           locale = readr::locale(encoding = \"UTF-8\"),\n",
    "#                           show_col_types = FALSE) %>% data.frame()\n",
    "  \n",
    "  occ <- prepare_gbif_occurrence_data(gbif_occurrece_file = occ_file, columns = 'standard')\n",
    "\n",
    "\n",
    "  file.name <-paste0(path_dataGBIF,'/parseGBIF_1_occ_issue.csv')\n",
    "  occ_gbif_issue <- readr::read_delim(file = file.name,\n",
    "                                      delim = ',',\n",
    "                                      locale = readr::locale(encoding = \"UTF-8\"),\n",
    "                                      show_col_types = FALSE) %>% data.frame()\n",
    "  \n",
    "  file.name <- paste0(path_dataGBIF,'/parseGBIF_2_occ_wcvp_check_name.csv')\n",
    "  names.checked <- readr::read_delim(file = file.name,\n",
    "                                     delim = ',',\n",
    "                                     locale = readr::locale(encoding = \"UTF-8\"),\n",
    "                                     show_col_types = FALSE) %>% data.frame()\n",
    "  \n",
    "  file.name <- paste0(path_dataGBIF,'/parseGBIF_3_occ_collectorsDictionary.csv')\n",
    "  occ_collectorsDictionary <- readr::read_delim(file = file.name,\n",
    "                                                delim = ',', \n",
    "                                                locale = readr::locale(encoding = \"UTF-8\"),\n",
    "                                                show_col_types = FALSE) %>%\n",
    "    data.frame()"
   ]
  },
  {
   "cell_type": "code",
   "execution_count": null,
   "id": "e38c229e-f254-4abc-89e8-baa8a728f37a",
   "metadata": {},
   "outputs": [],
   "source": [
    "  key <- occ_collectorsDictionary$Ctrl_key_family_recordedBy_recordNumber %>% unique()\n",
    "  n_k <- NROW(key)\n",
    "  i_key <- 1:n_k\n",
    "  \n",
    "  ind_k1 <- i_key <= (n_k/3)\n",
    "  ind_k2 <- i_key > (n_k/3) & i_key <= ((n_k/3)*2)\n",
    "  ind_k3 <- i_key > (n_k/3)*2\n",
    "  n_k\n",
    "  sum(ind_k1==TRUE) + sum(ind_k2==TRUE) + sum(ind_k3==TRUE)\n",
    "  \n",
    "  i_k_1 <- occ_collectorsDictionary$Ctrl_key_family_recordedBy_recordNumber %in% key[ind_k1==TRUE]\n",
    "  i_k_2 <- occ_collectorsDictionary$Ctrl_key_family_recordedBy_recordNumber %in% key[ind_k2==TRUE]\n",
    "  i_k_3 <- occ_collectorsDictionary$Ctrl_key_family_recordedBy_recordNumber %in% key[ind_k3==TRUE]\n",
    "  \n",
    "  occ_collectorsDictionary[i_k_1==TRUE,]$Ctrl_key_family_recordedBy_recordNumber %>% \n",
    "    unique() %>% NROW() +\n",
    "    \n",
    "    occ_collectorsDictionary[i_k_2==TRUE,]$Ctrl_key_family_recordedBy_recordNumber %>% \n",
    "    unique() %>% NROW() +\n",
    "    \n",
    "    occ_collectorsDictionary[i_k_3==TRUE,]$Ctrl_key_family_recordedBy_recordNumber %>% \n",
    "    unique() %>% NROW()\n",
    "  \n",
    "  occ_collectorsDictionary$Ctrl_key_family_recordedBy_recordNumber %>% \n",
    "    unique() %>% NROW()"
   ]
  },
  {
   "cell_type": "code",
   "execution_count": null,
   "id": "45e89014-d6ae-45e2-bcbf-dbfb9d134872",
   "metadata": {},
   "outputs": [],
   "source": [
    " occ_digital_voucher_t1 <- select_digital_voucher_v2.1(occ = occ[i_k_1==TRUE,],\n",
    "                                                        occ_gbif_issue = occ_gbif_issue[i_k_1==TRUE,],\n",
    "                                                        occ_wcvp_check_name = names.checked[i_k_1==TRUE,],\n",
    "                                                        occ_collectorsDictionary = occ_collectorsDictionary[i_k_1==TRUE,],\n",
    "                                                        silence = FALSE)"
   ]
  },
  {
   "cell_type": "code",
   "execution_count": null,
   "id": "ed81803f-6668-49ae-8cf3-c405313eaaf3",
   "metadata": {},
   "outputs": [],
   "source": [
    "  occ_digital_voucher_t2 <- select_digital_voucher_v2.1(occ = occ[i_k_2==TRUE,],\n",
    "                                                        occ_gbif_issue = occ_gbif_issue[i_k_2==TRUE,],\n",
    "                                                        occ_wcvp_check_name = names.checked[i_k_2==TRUE,],\n",
    "                                                        occ_collectorsDictionary = occ_collectorsDictionary[i_k_2==TRUE,],\n",
    "                                                        silence = FALSE)\n"
   ]
  },
  {
   "cell_type": "code",
   "execution_count": null,
   "id": "af3f93e7-c76e-4718-b292-caf4d76311c2",
   "metadata": {},
   "outputs": [],
   "source": [
    "  occ_digital_voucher_t3 <- select_digital_voucher_v2.1(occ = occ[i_k_3==TRUE,],\n",
    "                                                        occ_gbif_issue = occ_gbif_issue[i_k_3==TRUE,],\n",
    "                                                        occ_wcvp_check_name = names.checked[i_k_3==TRUE,],\n",
    "                                                        occ_collectorsDictionary = occ_collectorsDictionary[i_k_3==TRUE,],\n",
    "                                                        silence = FALSE)"
   ]
  },
  {
   "cell_type": "code",
   "execution_count": null,
   "id": "fc55185a-eef4-4a46-adf4-f07b9273f6cc",
   "metadata": {},
   "outputs": [],
   "source": [
    "  occ_digital <- list(all_data =  {} %>% data.frame(stringsAsFactors = FALSE),\n",
    "                      useable_data_raw = {},\n",
    "                      duplicates = {},\n",
    "                      unusable_data_raw = {},\n",
    "                      occ_digital_voucher = {},\n",
    "                      occ_results = {})\n",
    "  \n",
    "  occ_digital$all_data <- rbind(occ_digital_voucher_t1$all_data,\n",
    "                                occ_digital_voucher_t2$all_data,\n",
    "                                occ_digital_voucher_t3$all_data)\n",
    "  \n",
    "  \n",
    "  occ_digital$useable_data_raw <- rbind(occ_digital_voucher_t1$useable_data_raw,\n",
    "                                        occ_digital_voucher_t2$useable_data_raw,\n",
    "                                        occ_digital_voucher_t3$useable_data_raw)\n",
    "  \n",
    "  \n",
    "  occ_digital$unusable_data_raw <- rbind(occ_digital_voucher_t1$unusable_data_raw,\n",
    "                                         occ_digital_voucher_t2$unusable_data_raw,\n",
    "                                         occ_digital_voucher_t3$unusable_data_raw)\n",
    "  \n",
    "  occ_digital$occ_digital_voucher <- rbind(occ_digital_voucher_t1$occ_digital_voucher,\n",
    "                                           occ_digital_voucher_t2$occ_digital_voucher,\n",
    "                                           occ_digital_voucher_t3$occ_digital_voucher)\n",
    "  \n",
    "  occ_digital$occ_results <- rbind(occ_digital_voucher_t1$occ_results,\n",
    "                                   occ_digital_voucher_t2$occ_results,\n",
    "                                   occ_digital_voucher_t3$occ_results)"
   ]
  },
  {
   "cell_type": "code",
   "execution_count": null,
   "id": "b97f21c9-594c-44f4-a5ef-5fb970d9801d",
   "metadata": {},
   "outputs": [],
   "source": [
    "NROW(occ_digital$all_data)"
   ]
  },
  {
   "cell_type": "code",
   "execution_count": null,
   "id": "2a642af0-3461-4060-948c-65953826e757",
   "metadata": {},
   "outputs": [],
   "source": [
    "  file.name <- paste0(path_dataGBIF,'/parseGBIF_4_occ_digital_voucher.csv')\n",
    "  write.csv(occ_digital$all_data,\n",
    "            file.name, \n",
    "            row.names = FALSE, \n",
    "            fileEncoding = \"UTF-8\", \n",
    "            na = \"\")"
   ]
  },
  {
   "cell_type": "code",
   "execution_count": null,
   "id": "a6730d6b-f37b-4882-9ad3-5d934b2fd491",
   "metadata": {},
   "outputs": [],
   "source": [
    "  file.name <- paste0(path_dataGBIF,'/parseGBIF_4_occ_digital_voucher.csv')\n",
    "  occ_digital_voucher <- readr::read_delim(file = file.name,\n",
    "                                                delim = ',',\n",
    "                                                locale = readr::locale(encoding = \"UTF-8\"),\n",
    "                                                show_col_types = FALSE) %>% data.frame()"
   ]
  },
  {
   "cell_type": "code",
   "execution_count": null,
   "id": "752b4ee6-0926-4903-bcde-f8a1fa57ce12",
   "metadata": {},
   "outputs": [],
   "source": [
    "   key <- occ_digital_voucher$Ctrl_key_family_recordedBy_recordNumber %>% unique()\n",
    "   n_k <- NROW(key)\n",
    "   i_key <- 1:n_k\n",
    "    \n",
    "   ind_k1 <- i_key <= (n_k/3)\n",
    "   ind_k2 <- i_key > (n_k/3) & i_key <= ((n_k/3)*2)\n",
    "   ind_k3 <- i_key > (n_k/3)*2\n",
    "   n_k\n",
    "   sum(ind_k1==TRUE) + sum(ind_k2==TRUE) + sum(ind_k3==TRUE)\n",
    "    \n",
    "   i_k_1 <- occ_digital_voucher$Ctrl_key_family_recordedBy_recordNumber %in% key[ind_k1==TRUE]\n",
    "   i_k_2 <- occ_digital_voucher$Ctrl_key_family_recordedBy_recordNumber %in% key[ind_k2==TRUE]\n",
    "   i_k_3 <- occ_digital_voucher$Ctrl_key_family_recordedBy_recordNumber %in% key[ind_k3==TRUE]\n",
    "    \n",
    "   occ_digital_voucher[i_k_1==TRUE,]$Ctrl_key_family_recordedBy_recordNumber %>% \n",
    "     unique() %>% NROW() +\n",
    "      \n",
    "   occ_digital_voucher[i_k_2==TRUE,]$Ctrl_key_family_recordedBy_recordNumber %>% \n",
    "     unique() %>% NROW() +\n",
    "      \n",
    "    occ_digital_voucher[i_k_3==TRUE,]$Ctrl_key_family_recordedBy_recordNumber %>% \n",
    "     unique() %>% NROW()\n",
    "    \n",
    "    occ_digital_voucher$Ctrl_key_family_recordedBy_recordNumber %>% \n",
    "      unique() %>% NROW()"
   ]
  },
  {
   "cell_type": "code",
   "execution_count": null,
   "id": "eabba1e6-1e83-43f9-80e2-2bdb8721a467",
   "metadata": {},
   "outputs": [],
   "source": [
    "  results_t1 <- export_data_v2.3(occ_digital_voucher_file = '',\n",
    "                                occ_digital_voucher = occ_digital_voucher[i_k_1==TRUE,],\n",
    "                                merge_unusable_data = TRUE,\n",
    "                                silence = FALSE)\n"
   ]
  },
  {
   "cell_type": "code",
   "execution_count": null,
   "id": "af22854c-efd7-49be-9d11-2f8e27cf5591",
   "metadata": {},
   "outputs": [],
   "source": [
    " results_t2 <- export_data_v2.3(occ_digital_voucher_file = '',\n",
    "                                   occ_digital_voucher = occ_digital_voucher[i_k_2==TRUE,],\n",
    "                                   merge_unusable_data = TRUE,\n",
    "                                   silence = TRUE)"
   ]
  },
  {
   "cell_type": "code",
   "execution_count": null,
   "id": "085fc0ef-118d-4c0c-95d9-ff7810d690e8",
   "metadata": {},
   "outputs": [],
   "source": [
    " results_t3 <- export_data_v2.3(occ_digital_voucher_file = '',\n",
    "                                   occ_digital_voucher = occ_digital_voucher[i_k_3==TRUE,],\n",
    "                                   merge_unusable_data = TRUE,\n",
    "                                   silence = TRUE)"
   ]
  },
  {
   "cell_type": "code",
   "execution_count": null,
   "id": "c7010523-a2ae-44c0-8b3e-ac23173a7925",
   "metadata": {},
   "outputs": [],
   "source": [
    "results <- list(    occ_all = {},\n",
    "                        useable_data_merge = {},\n",
    "                        useable_data_raw = {},\n",
    "                        duplicates = {},\n",
    "                        unusable_data_merge = {},\n",
    "                        unusable_data_raw = {})\n",
    "    \n",
    "    results$all_data <- rbind(results_t1$all_data,\n",
    "                              results_t2$all_data,\n",
    "                              results_t3$all_data)  \n",
    "    \n",
    "    results$useable_data_merge <- rbind(results_t1$useable_data_merge,\n",
    "                              results_t2$useable_data_merge,\n",
    "                              results_t3$useable_data_merge)\n",
    "    \n",
    "    results$useable_data_raw <- rbind(results_t1$useable_data_raw,\n",
    "                              results_t2$useable_data_raw,\n",
    "                              results_t3$useable_data_raw)\n",
    "    \n",
    "    results$duplicates <- rbind(results_t1$duplicates,\n",
    "                              results_t2$duplicates,\n",
    "                              results_t3$duplicates)\n",
    "    \n",
    "    results$unusable_data_raw <- rbind(results_t1$unusable_data_raw,\n",
    "                              results_t2$unusable_data_raw,\n",
    "                              results_t3$unusable_data_raw)\n",
    "    \n",
    "    results$unusable_data_merge <- rbind(results_t1$unusable_data_merge,\n",
    "                              results_t2$unusable_data_merge,\n",
    "                              results_t3$unusable_data_merge)"
   ]
  },
  {
   "cell_type": "code",
   "execution_count": null,
   "id": "91843cec-d412-4a03-b1c5-774e97e910df",
   "metadata": {},
   "outputs": [],
   "source": [
    "  file.name <-  file.name <- paste0(path_dataGBIF,'/parseGBIF_5_occ_all_data.csv')\n",
    "    write.csv(results$all_data,\n",
    "              file.name, \n",
    "              row.names = FALSE, \n",
    "              fileEncoding = \"UTF-8\", \n",
    "              na = \"\")\n",
    "    \n",
    "        \n",
    "    file.name <- paste0(path_dataGBIF,'/parseGBIF_5_occ_useable_data_merge.csv')\n",
    "    write.csv(results$useable_data_merge,\n",
    "              file.name, \n",
    "              row.names = FALSE, \n",
    "              fileEncoding = \"UTF-8\", \n",
    "              na = \"\")\n",
    "    \n",
    "    \n",
    "    file.name <-  paste0(path_dataGBIF,'/parseGBIF_5_occ_useable_data_raw.csv')\n",
    "    write.csv(results$useable_data_raw,\n",
    "              file.name, \n",
    "              row.names = FALSE, \n",
    "              fileEncoding = \"UTF-8\", \n",
    "              na = \"\")\n",
    "    \n",
    "    \n",
    "    file.name <-  paste0(path_dataGBIF,'/parseGBIF_5_occ_duplicates.csv')\n",
    "    write.csv(results$duplicates,\n",
    "              file.name, \n",
    "              row.names = FALSE, \n",
    "              fileEncoding = \"UTF-8\", \n",
    "              na = \"\")\n",
    "    \n",
    "    \n",
    "    file.name <-  paste0(path_dataGBIF,'/parseGBIF_5_occ_unusable_data_merge.csv')\n",
    "    write.csv(results$unusable_data_merge,\n",
    "              file.name, \n",
    "              row.names = FALSE, \n",
    "              fileEncoding = \"UTF-8\", \n",
    "              na = \"\")\n",
    "    \n",
    "    file.name <-  paste0(path_dataGBIF,'/parseGBIF_5_occ_unusable_data_raw.csv')\n",
    "    write.csv(results$results$unusable_data_raw,\n",
    "              file.name, \n",
    "              row.names = FALSE, \n",
    "              fileEncoding = \"UTF-8\", \n",
    "              na = \"\")"
   ]
  },
  {
   "cell_type": "code",
   "execution_count": null,
   "id": "58b7bd34-b20f-42e8-9b57-206b5ed6f6a2",
   "metadata": {},
   "outputs": [],
   "source": [
    "names(gbif_issue)\n",
    "head(gbif_issue$occ_gbif_issue)\n",
    "NROW(occ)\n",
    "print(path_data)\n",
    "head(EnumOccurrenceIssue)"
   ]
  }
 ],
 "metadata": {
  "celltoolbar": "Tags",
  "kernelspec": {
   "display_name": "R",
   "language": "R",
   "name": "ir"
  },
  "language_info": {
   "codemirror_mode": "r",
   "file_extension": ".r",
   "mimetype": "text/x-r-source",
   "name": "R",
   "pygments_lexer": "r",
   "version": "4.2.2"
  },
  "toc-autonumbering": true,
  "toc-showmarkdowntxt": true,
  "widgets": {
   "application/vnd.jupyter.widget-state+json": {
    "state": {},
    "version_major": 2,
    "version_minor": 0
   }
  }
 },
 "nbformat": 4,
 "nbformat_minor": 5
}
